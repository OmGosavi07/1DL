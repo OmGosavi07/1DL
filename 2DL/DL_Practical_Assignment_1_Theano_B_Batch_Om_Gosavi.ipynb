{
  "nbformat": 4,
  "nbformat_minor": 0,
  "metadata": {
    "colab": {
      "provenance": []
    },
    "kernelspec": {
      "name": "python3",
      "display_name": "Python 3"
    },
    "language_info": {
      "name": "python"
    }
  },
  "cells": [
    {
      "cell_type": "markdown",
      "source": [
        "SAMPLE PROGRAM USING THEANO"
      ],
      "metadata": {
        "id": "tuP4uR0k59Uk"
      }
    },
    {
      "cell_type": "markdown",
      "source": [
        "Theano is a Python library and optimizing compiler for manipulating and evaluating mathematical expressions, especially matrix-valued ones."
      ],
      "metadata": {
        "id": "QYnPMia9Grjl"
      }
    },
    {
      "cell_type": "markdown",
      "source": [
        "Loading Required Libraries\n"
      ],
      "metadata": {
        "id": "q3nQh9d96CcR"
      }
    },
    {
      "cell_type": "code",
      "execution_count": 1,
      "metadata": {
        "colab": {
          "base_uri": "https://localhost:8080/"
        },
        "id": "HKwEX286yIxg",
        "outputId": "d9dcbf6a-524c-4535-9b3e-6bf11c899280"
      },
      "outputs": [
        {
          "output_type": "stream",
          "name": "stdout",
          "text": [
            "Looking in indexes: https://pypi.org/simple, https://us-python.pkg.dev/colab-wheels/public/simple/\n",
            "Collecting theano\n",
            "  Downloading Theano-1.0.5.tar.gz (2.8 MB)\n",
            "\u001b[K     |████████████████████████████████| 2.8 MB 45.2 MB/s \n",
            "\u001b[?25hRequirement already satisfied: numpy>=1.9.1 in /usr/local/lib/python3.7/dist-packages (from theano) (1.21.6)\n",
            "Requirement already satisfied: scipy>=0.14 in /usr/local/lib/python3.7/dist-packages (from theano) (1.7.3)\n",
            "Requirement already satisfied: six>=1.9.0 in /usr/local/lib/python3.7/dist-packages (from theano) (1.15.0)\n",
            "Building wheels for collected packages: theano\n",
            "  Building wheel for theano (setup.py) ... \u001b[?25l\u001b[?25hdone\n",
            "  Created wheel for theano: filename=Theano-1.0.5-py3-none-any.whl size=2668113 sha256=f99f7e8497e4c6fe17ef6e46467aef16f144878f6f56b562f2186d1f570cf0f1\n",
            "  Stored in directory: /root/.cache/pip/wheels/26/68/6f/745330367ce7822fe0cd863712858151f5723a0a5e322cc144\n",
            "Successfully built theano\n",
            "Installing collected packages: theano\n",
            "Successfully installed theano-1.0.5\n"
          ]
        }
      ],
      "source": [
        "# Theano\n",
        "# Mathematical Operations\n",
        "# Arrays - Multi-dimensional\n",
        "# Installation\n",
        "!pip install theano\n",
        "import theano\n",
        "from theano import *\n",
        "import theano.tensor as T\n",
        "import numpy as np\n",
        "import pandas as pd\n",
        "from theano import function"
      ]
    },
    {
      "cell_type": "markdown",
      "source": [
        "* Scalar variables are used to represent individual fixed-size data objects, such as integers and pointers."
      ],
      "metadata": {
        "id": "pWRJAkLVGGl7"
      }
    },
    {
      "cell_type": "code",
      "source": [
        "# scalar variables\n",
        "v1 = T.dscalar()\n",
        "v2 = T.scalar()\n",
        "# subtraction\n",
        "sres = v1-v2"
      ],
      "metadata": {
        "id": "UA6pLIW_6Jux"
      },
      "execution_count": 2,
      "outputs": []
    },
    {
      "cell_type": "code",
      "source": [
        "#add\n",
        "ares = v1+v2\n",
        "#convert the results into functions\n",
        "calcsres = theano.function([v1,v2],sres)\n",
        "calcares = theano.function([v1,v2],ares)\n",
        "calcares(12,23)\n",
        "calcsres(13,12)\n",
        "x = T.dmatrix('x')\n",
        "y = T.dmatrix('y')"
      ],
      "metadata": {
        "id": "0Ve3zkuX6NWt"
      },
      "execution_count": 3,
      "outputs": []
    },
    {
      "cell_type": "code",
      "source": [
        "# addition\n",
        "z = x+y\n",
        "func = function([x,y],z)\n",
        "m1 = [\n",
        "[1,2],\n",
        "[3,4]\n",
        "]\n",
        "m2 = [\n",
        "[4,5],\n",
        "[6,7]\n",
        "]\n",
        "func(m1,m2)\n",
        "# element wise sum\n",
        "# 00 -> [1+4] -> 5"
      ],
      "metadata": {
        "colab": {
          "base_uri": "https://localhost:8080/"
        },
        "id": "rgr3GVpH6RFB",
        "outputId": "0d1d2d2a-c402-4583-939b-dd1fc228740d"
      },
      "execution_count": 4,
      "outputs": [
        {
          "output_type": "execute_result",
          "data": {
            "text/plain": [
              "array([[ 5.,  7.],\n",
              "       [ 9., 11.]])"
            ]
          },
          "metadata": {},
          "execution_count": 4
        }
      ]
    },
    {
      "cell_type": "code",
      "source": [],
      "metadata": {
        "id": "0WGDTCYAjPJl"
      },
      "execution_count": null,
      "outputs": []
    }
  ]
}