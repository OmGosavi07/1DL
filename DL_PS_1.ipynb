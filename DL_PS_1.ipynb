{
  "cells": [
    {
      "cell_type": "markdown",
      "id": "e8e7671e",
      "metadata": {
        "id": "e8e7671e"
      },
      "source": [
        "# Demonstrate use of tensorflow and pytorch by implementing simple code in python"
      ]
    },
    {
      "cell_type": "markdown",
      "id": "a96365ad",
      "metadata": {
        "id": "a96365ad"
      },
      "source": [
        "TENSORFLOW"
      ]
    },
    {
      "cell_type": "code",
      "execution_count": 2,
      "id": "23989ada",
      "metadata": {
        "id": "23989ada"
      },
      "outputs": [],
      "source": [
        "import tensorflow as tf\n",
        "import numpy as np"
      ]
    },
    {
      "cell_type": "code",
      "execution_count": 3,
      "id": "6fd9b1c4",
      "metadata": {
        "colab": {
          "base_uri": "https://localhost:8080/"
        },
        "id": "6fd9b1c4",
        "outputId": "080774b2-9b52-4bdb-c5fd-938f43c5b727"
      },
      "outputs": [
        {
          "output_type": "stream",
          "name": "stdout",
          "text": [
            "tf.Tensor(30, shape=(), dtype=int32)\n"
          ]
        }
      ],
      "source": [
        "a=tf.constant(10)\n",
        "b=tf.constant(20)\n",
        "print(a+b)"
      ]
    },
    {
      "cell_type": "code",
      "execution_count": 4,
      "id": "28c101b3",
      "metadata": {
        "colab": {
          "base_uri": "https://localhost:8080/"
        },
        "id": "28c101b3",
        "outputId": "3323249c-32ad-42f2-cdc6-705b128a19e1"
      },
      "outputs": [
        {
          "output_type": "stream",
          "name": "stdout",
          "text": [
            "[0.6795683  0.35367537 0.74718565 0.39987734 0.35852882 0.7180365\n",
            " 0.7384104  0.99369097 0.5140861  0.63944334 0.20234004 0.4964164\n",
            " 0.73423856 0.04778801 0.278043   0.7841469  0.7189814  0.56587774\n",
            " 0.48560596 0.68812615 0.94860387 0.85947394 0.73190594 0.74596083\n",
            " 0.4108094  0.7652801  0.50047755 0.25128016 0.58734334 0.856778\n",
            " 0.5582943  0.2959523  0.4582861  0.5223039  0.3900183  0.2782173\n",
            " 0.51970303 0.33896312 0.6950003  0.9927198  0.16624202 0.9838171\n",
            " 0.202631   0.03597032 0.19565375 0.13547747 0.90387416 0.17810419\n",
            " 0.5800428  0.8040571  0.34058574 0.04183109 0.3512217  0.02976646\n",
            " 0.79229766 0.45319593 0.03713045 0.6884081  0.7631279  0.942325\n",
            " 0.60228217 0.10273151 0.81266004 0.44425556 0.68150604 0.32759124\n",
            " 0.17723614 0.32396504 0.7437358  0.686741   0.9848305  0.06010335\n",
            " 0.69618744 0.9836456  0.0949913  0.44982433 0.96096635 0.3108573\n",
            " 0.1366826  0.07360211 0.63300186 0.47699305 0.73116684 0.51964927\n",
            " 0.18348475 0.5788622  0.97796583 0.31484142 0.08738756 0.32491165\n",
            " 0.40193972 0.43736207 0.44919452 0.4509827  0.22765262 0.84909946\n",
            " 0.56380063 0.21138962 0.91123796 0.7993283 ]\n"
          ]
        }
      ],
      "source": [
        "x=np.random.rand(100).astype(np.float32)\n",
        "print(x)"
      ]
    },
    {
      "cell_type": "code",
      "execution_count": 5,
      "id": "a42eb216",
      "metadata": {
        "id": "a42eb216"
      },
      "outputs": [],
      "source": [
        "y=x*0.2+0.2"
      ]
    },
    {
      "cell_type": "code",
      "execution_count": 6,
      "id": "98203dff",
      "metadata": {
        "id": "98203dff"
      },
      "outputs": [],
      "source": [
        "#weight initialization\n",
        "w=tf.Variable(tf.random.normal([1]))"
      ]
    },
    {
      "cell_type": "code",
      "execution_count": 7,
      "id": "7a14b92e",
      "metadata": {
        "id": "7a14b92e"
      },
      "outputs": [],
      "source": [
        "#assigning bias value\n",
        "b=tf.Variable(tf.zeros([1]))"
      ]
    },
    {
      "cell_type": "code",
      "execution_count": 8,
      "id": "e1ece021",
      "metadata": {
        "id": "e1ece021"
      },
      "outputs": [],
      "source": [
        "#creating mean squared error function\n",
        "def mse_loss():\n",
        "    y_pred=w*x+b\n",
        "    loss=tf.reduce_mean(tf.square(y_pred-y))\n",
        "    return loss"
      ]
    },
    {
      "cell_type": "code",
      "execution_count": 9,
      "id": "e3e62cd0",
      "metadata": {
        "id": "e3e62cd0"
      },
      "outputs": [],
      "source": [
        "#optimizer\n",
        "opt=tf.keras.optimizers.Adam()"
      ]
    },
    {
      "cell_type": "code",
      "execution_count": 10,
      "id": "b1157ab5",
      "metadata": {
        "colab": {
          "base_uri": "https://localhost:8080/"
        },
        "id": "b1157ab5",
        "outputId": "3a4782bd-e9e7-4106-e9fb-ff5d34bd2b97"
      },
      "outputs": [
        {
          "output_type": "stream",
          "name": "stdout",
          "text": [
            "0 [0.73290837] [-0.00099998]\n",
            "500 [0.40495983] [0.09131231]\n",
            "1000 [0.24206525] [0.17772128]\n",
            "1500 [0.20394549] [0.19791049]\n",
            "2000 [0.20014074] [0.19992547]\n",
            "2500 [0.20000161] [0.19999917]\n",
            "3000 [0.20000061] [0.19999968]\n",
            "3500 [0.20000046] [0.19999975]\n",
            "4000 [0.20000036] [0.19999981]\n",
            "4500 [0.20000026] [0.19999987]\n"
          ]
        }
      ],
      "source": [
        "#iterations\n",
        "for i in range(5000):\n",
        "    opt.minimize(mse_loss,var_list=[w,b])\n",
        "    if i%500==0:\n",
        "        print(i, w.numpy(), b.numpy())"
      ]
    },
    {
      "cell_type": "markdown",
      "id": "f9750c30",
      "metadata": {
        "id": "f9750c30"
      },
      "source": [
        "PYTORCH"
      ]
    },
    {
      "cell_type": "code",
      "execution_count": 11,
      "id": "c7865c3c",
      "metadata": {
        "colab": {
          "base_uri": "https://localhost:8080/"
        },
        "id": "c7865c3c",
        "outputId": "70c8cdcb-3a10-4576-cb95-4de427086776"
      },
      "outputs": [
        {
          "output_type": "stream",
          "name": "stdout",
          "text": [
            "Looking in indexes: https://pypi.org/simple, https://us-python.pkg.dev/colab-wheels/public/simple/\n",
            "Requirement already satisfied: torch in /usr/local/lib/python3.7/dist-packages (1.12.1+cu113)\n",
            "Requirement already satisfied: typing-extensions in /usr/local/lib/python3.7/dist-packages (from torch) (4.1.1)\n"
          ]
        }
      ],
      "source": [
        "pip install torch"
      ]
    },
    {
      "cell_type": "code",
      "execution_count": 12,
      "id": "57618524",
      "metadata": {
        "id": "57618524"
      },
      "outputs": [],
      "source": [
        "import torch\n",
        "import numpy as np"
      ]
    },
    {
      "cell_type": "code",
      "execution_count": 13,
      "id": "ed04836b",
      "metadata": {
        "id": "ed04836b"
      },
      "outputs": [],
      "source": [
        "#tenor initialization using data\n",
        "data=[\n",
        "    [1,2],\n",
        "    [3,4]\n",
        "]\n",
        "x_data=torch.tensor(data)"
      ]
    },
    {
      "cell_type": "code",
      "execution_count": 14,
      "id": "c94d187d",
      "metadata": {
        "colab": {
          "base_uri": "https://localhost:8080/"
        },
        "id": "c94d187d",
        "outputId": "e24a844c-e663-4e5f-b8d7-0d13623c59a9"
      },
      "outputs": [
        {
          "output_type": "stream",
          "name": "stdout",
          "text": [
            "tensor([[1, 2],\n",
            "        [3, 4]])\n",
            "<class 'torch.Tensor'>\n"
          ]
        }
      ],
      "source": [
        "print(x_data)\n",
        "print(type(x_data))"
      ]
    },
    {
      "cell_type": "code",
      "execution_count": 15,
      "id": "546598be",
      "metadata": {
        "colab": {
          "base_uri": "https://localhost:8080/"
        },
        "id": "546598be",
        "outputId": "3f21669a-9a07-4349-f8ab-f677ef19a50b"
      },
      "outputs": [
        {
          "output_type": "stream",
          "name": "stdout",
          "text": [
            "tensor([[1, 2],\n",
            "        [3, 4]])\n",
            "<class 'torch.Tensor'>\n"
          ]
        }
      ],
      "source": [
        "#tensor initialization using numpy array\n",
        "np_array=np.array(data)\n",
        "x_np=torch.from_numpy(np_array)\n",
        "print(x_np)\n",
        "print(type(x_np))"
      ]
    },
    {
      "cell_type": "code",
      "execution_count": 16,
      "id": "f1799e32",
      "metadata": {
        "colab": {
          "base_uri": "https://localhost:8080/"
        },
        "id": "f1799e32",
        "outputId": "8b5aa94e-9bb2-43d2-d891-53fb93d8a2c0"
      },
      "outputs": [
        {
          "output_type": "stream",
          "name": "stdout",
          "text": [
            "One Tensor : \n",
            "  tensor([[1, 1],\n",
            "        [1, 1]])\n",
            "tensor([[0.9520, 0.9769],\n",
            "        [0.2943, 0.3897]])\n"
          ]
        }
      ],
      "source": [
        "#tensor initialization using another tensor\n",
        "x_ones=torch.ones_like(x_data)\n",
        "print(\"One Tensor : \\n \",x_ones)\n",
        "x_rand=torch.rand_like(x_data, dtype=torch.float)\n",
        "print(x_rand)"
      ]
    },
    {
      "cell_type": "code",
      "execution_count": 17,
      "id": "fde7b3ae",
      "metadata": {
        "colab": {
          "base_uri": "https://localhost:8080/"
        },
        "id": "fde7b3ae",
        "outputId": "a7deb515-acea-4e5c-987e-aa6c123a4bb7"
      },
      "outputs": [
        {
          "output_type": "stream",
          "name": "stdout",
          "text": [
            "tensor([[0.3959, 0.0997, 0.7572],\n",
            "        [0.4975, 0.6008, 0.0593]])\n",
            "<class 'torch.Tensor'>\n"
          ]
        }
      ],
      "source": [
        "#other ways of tensor creation and initialization\n",
        "shape=(2,3)\n",
        "random_tensor=torch.rand(shape)\n",
        "print(random_tensor)\n",
        "print(type(random_tensor))"
      ]
    },
    {
      "cell_type": "code",
      "execution_count": 18,
      "id": "aa05343c",
      "metadata": {
        "colab": {
          "base_uri": "https://localhost:8080/"
        },
        "id": "aa05343c",
        "outputId": "886d2d7b-b5a1-403f-8e51-3441c45a2d87"
      },
      "outputs": [
        {
          "output_type": "stream",
          "name": "stdout",
          "text": [
            "tensor([[1., 1., 1., 1.],\n",
            "        [1., 1., 1., 1.],\n",
            "        [1., 1., 1., 1.],\n",
            "        [1., 1., 1., 1.]])\n"
          ]
        }
      ],
      "source": [
        "#Tensor operations\n",
        "#indexing and slicing\n",
        "tensor=torch.ones(4,4)\n",
        "print(tensor)"
      ]
    },
    {
      "cell_type": "code",
      "execution_count": 19,
      "id": "3ee12def",
      "metadata": {
        "colab": {
          "base_uri": "https://localhost:8080/"
        },
        "id": "3ee12def",
        "outputId": "eefd7c31-e830-460b-d5ea-e9282b2a28a7"
      },
      "outputs": [
        {
          "output_type": "stream",
          "name": "stdout",
          "text": [
            "tensor([[0., 0., 0., 0.],\n",
            "        [0., 0., 0., 0.],\n",
            "        [0., 0., 0., 0.],\n",
            "        [0., 0., 0., 0.]])\n"
          ]
        }
      ],
      "source": [
        "tensor1 = torch.zeros(4,4)\n",
        "print(tensor1)"
      ]
    },
    {
      "cell_type": "code",
      "execution_count": 20,
      "id": "cbdaa3e1",
      "metadata": {
        "colab": {
          "base_uri": "https://localhost:8080/"
        },
        "id": "cbdaa3e1",
        "outputId": "49967a6f-3be3-4867-c3d6-aaac9da39741"
      },
      "outputs": [
        {
          "output_type": "stream",
          "name": "stdout",
          "text": [
            "tensor([[1., 1., 1., 1.],\n",
            "        [1., 1., 1., 1.],\n",
            "        [1., 1., 1., 1.],\n",
            "        [1., 1., 1., 1.],\n",
            "        [0., 0., 0., 0.],\n",
            "        [0., 0., 0., 0.],\n",
            "        [0., 0., 0., 0.],\n",
            "        [0., 0., 0., 0.]])\n"
          ]
        }
      ],
      "source": [
        "tensor2 = torch.cat([tensor,tensor1])\n",
        "print(tensor2)"
      ]
    },
    {
      "cell_type": "code",
      "execution_count": 21,
      "id": "897f4cf2",
      "metadata": {
        "colab": {
          "base_uri": "https://localhost:8080/"
        },
        "id": "897f4cf2",
        "outputId": "5e56128f-9934-4e93-993c-596e3ca0bee1"
      },
      "outputs": [
        {
          "output_type": "execute_result",
          "data": {
            "text/plain": [
              "tensor([[1., 1., 1., 1.],\n",
              "        [1., 1., 1., 1.],\n",
              "        [1., 1., 1., 1.],\n",
              "        [1., 1., 1., 1.]])"
            ]
          },
          "metadata": {},
          "execution_count": 21
        }
      ],
      "source": [
        "#multiplication operation\n",
        "tensor.mul(tensor1)\n",
        "tensor * tensor1\n",
        "tensor.T"
      ]
    },
    {
      "cell_type": "code",
      "execution_count": 22,
      "id": "c2816056",
      "metadata": {
        "colab": {
          "base_uri": "https://localhost:8080/"
        },
        "id": "c2816056",
        "outputId": "f412b6d8-8e9f-416a-987f-e68c31b22df8"
      },
      "outputs": [
        {
          "output_type": "execute_result",
          "data": {
            "text/plain": [
              "tensor([[4., 4., 4., 4.],\n",
              "        [4., 4., 4., 4.],\n",
              "        [4., 4., 4., 4.],\n",
              "        [4., 4., 4., 4.]])"
            ]
          },
          "metadata": {},
          "execution_count": 22
        }
      ],
      "source": [
        "#addition operation\n",
        "tensor.add_(3)"
      ]
    },
    {
      "cell_type": "code",
      "execution_count": 23,
      "id": "553b3f25",
      "metadata": {
        "colab": {
          "base_uri": "https://localhost:8080/"
        },
        "id": "553b3f25",
        "outputId": "88f837ec-a494-4070-bb14-a2544876d9c2"
      },
      "outputs": [
        {
          "output_type": "stream",
          "name": "stdout",
          "text": [
            "tensor([1., 1., 1., 1., 1.])\n",
            "[1. 1. 1. 1. 1.]\n",
            "<class 'numpy.ndarray'>\n"
          ]
        }
      ],
      "source": [
        "# from tensor to numpy\n",
        "t = torch.ones(5)\n",
        "print(t)\n",
        "n = t.numpy()\n",
        "print(n)\n",
        "print(type(n))"
      ]
    },
    {
      "cell_type": "code",
      "source": [],
      "metadata": {
        "id": "yC5eJ4O_h64n"
      },
      "id": "yC5eJ4O_h64n",
      "execution_count": null,
      "outputs": []
    }
  ],
  "metadata": {
    "kernelspec": {
      "display_name": "Python 3",
      "language": "python",
      "name": "python3"
    },
    "language_info": {
      "codemirror_mode": {
        "name": "ipython",
        "version": 3
      },
      "file_extension": ".py",
      "mimetype": "text/x-python",
      "name": "python",
      "nbconvert_exporter": "python",
      "pygments_lexer": "ipython3",
      "version": "3.8.8"
    },
    "colab": {
      "provenance": []
    }
  },
  "nbformat": 4,
  "nbformat_minor": 5
}