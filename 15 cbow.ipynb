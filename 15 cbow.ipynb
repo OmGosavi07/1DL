{
  "nbformat": 4,
  "nbformat_minor": 0,
  "metadata": {
    "colab": {
      "provenance": []
    },
    "kernelspec": {
      "name": "python3",
      "display_name": "Python 3"
    },
    "language_info": {
      "name": "python"
    }
  },
  "cells": [
    {
      "cell_type": "markdown",
      "source": [
        "\n",
        "\n",
        "In the CBOW model, the distributed representations of context (or surrounding words) are combined to predict the word in the middle .\n"
      ],
      "metadata": {
        "id": "aZUxR8RckIJ0"
      }
    },
    {
      "cell_type": "markdown",
      "source": [
        "Implement the Continuous Bag of Words (CBOW) Model. Stages can be:"
      ],
      "metadata": {
        "id": "6x8XzBXGBtBO"
      }
    },
    {
      "cell_type": "code",
      "execution_count": null,
      "metadata": {
        "id": "fVW164Xrh7J3"
      },
      "outputs": [],
      "source": [
        "import numpy as np\n",
        "import keras.backend as K\n",
        "from keras.models import Sequential\n",
        "from keras.layers import Dense, Embedding, Lambda\n",
        "from keras.utils import np_utils\n",
        "from keras.preprocessing import sequence\n",
        "from keras.preprocessing.text import Tokenizer\n",
        "import gensim\n"
      ]
    },
    {
      "cell_type": "markdown",
      "source": [
        "### 1. Data preparation"
      ],
      "metadata": {
        "id": "M9j0QVt9kWCU"
      }
    },
    {
      "cell_type": "code",
      "source": [
        "data=open('/content/data.txt','r')\n",
        "corona_data = [text for text in data if text.count(' ') >= 2]\n",
        "vectorize = Tokenizer()\n",
        "vectorize.fit_on_texts(corona_data)\n",
        "corona_data = vectorize.texts_to_sequences(corona_data)\n",
        "total_vocab = sum(len(s) for s in corona_data)\n",
        "word_count = len(vectorize.word_index) + 1\n",
        "window_size = 2"
      ],
      "metadata": {
        "id": "qPUn5Qg1kqW8"
      },
      "execution_count": null,
      "outputs": []
    },
    {
      "cell_type": "markdown",
      "source": [
        "### 2. Generate training data"
      ],
      "metadata": {
        "id": "0S9nhCg3snEJ"
      }
    },
    {
      "cell_type": "code",
      "source": [
        "def cbow_model(data, window_size, total_vocab):\n",
        "    total_length = window_size*2\n",
        "    for text in data:\n",
        "        text_len = len(text)\n",
        "        for idx, word in enumerate(text):\n",
        "            context_word = []\n",
        "            target   = []            \n",
        "            begin = idx - window_size\n",
        "            end = idx + window_size + 1\n",
        "            context_word.append([text[i] for i in range(begin, end) if 0 <= i < text_len and i != idx])\n",
        "            target.append(word)\n",
        "            contextual = sequence.pad_sequences(context_word, total_length=total_length)\n",
        "            final_target = np_utils.to_categorical(target, total_vocab)\n",
        "            yield(contextual, final_target) "
      ],
      "metadata": {
        "id": "dUZ_ZpqdzzR_"
      },
      "execution_count": null,
      "outputs": []
    },
    {
      "cell_type": "markdown",
      "source": [
        "### 3. Train model\n"
      ],
      "metadata": {
        "id": "rjk5n2descrQ"
      }
    },
    {
      "cell_type": "code",
      "source": [
        "model = Sequential()\n",
        "model.add(Embedding(input_dim=total_vocab, output_dim=100, input_length=window_size*2))\n",
        "model.add(Lambda(lambda x: K.mean(x, axis=1), output_shape=(100,)))\n",
        "model.add(Dense(total_vocab, activation='softmax'))\n",
        "model.compile(loss='categorical_crossentropy', optimizer='adam')\n",
        "for i in range(10):\n",
        "    cost = 0\n",
        "    for x, y in cbow_model(data, window_size, total_vocab):\n",
        "        cost += model.train_on_batch(contextual, final_target)\n",
        "    print(i, cost)"
      ],
      "metadata": {
        "colab": {
          "base_uri": "https://localhost:8080/"
        },
        "id": "-4crbiJTz3vf",
        "outputId": "ef1c5786-0989-485c-d652-3bb1b4d34d44"
      },
      "execution_count": null,
      "outputs": [
        {
          "output_type": "stream",
          "name": "stdout",
          "text": [
            "0 0\n",
            "1 0\n",
            "2 0\n",
            "3 0\n",
            "4 0\n",
            "5 0\n",
            "6 0\n",
            "7 0\n",
            "8 0\n",
            "9 0\n"
          ]
        }
      ]
    },
    {
      "cell_type": "code",
      "source": [
        "dimensions=100\n",
        "vect_file = open('/content/vectors.txt' ,'w')\n",
        "vect_file.write('{} {}\\n'.format(total_vocab,dimensions))\n",
        "\n",
        "weights = model.get_weights()[0]\n",
        "for text, i in vectorize.word_index.items():\n",
        "    final_vec = ' '.join(map(str, list(weights[i, :])))\n",
        "    vect_file.write('{} {}\\n'.format(text, final_vec))\n",
        "vect_file.close()"
      ],
      "metadata": {
        "id": "M06TBg7zz83w"
      },
      "execution_count": null,
      "outputs": []
    },
    {
      "cell_type": "markdown",
      "source": [
        "### 4. Output\n",
        "\n",
        "Here I am trying to find contextually similar words to VIRUS. And thus, the words with their similarity indexes are printed below."
      ],
      "metadata": {
        "id": "--yUMCl2siCb"
      }
    },
    {
      "cell_type": "code",
      "source": [
        "cbow_output = gensim.models.KeyedVectors.load_word2vec_format('/content/vectors.txt', binary=False)\n",
        "cbow_output.most_similar(positive=['virus'])"
      ],
      "metadata": {
        "colab": {
          "base_uri": "https://localhost:8080/"
        },
        "id": "lPshipIUz9jQ",
        "outputId": "bfc913a6-70ee-4331-fea3-f62072f608d2"
      },
      "execution_count": null,
      "outputs": [
        {
          "output_type": "execute_result",
          "data": {
            "text/plain": [
              "[('potentially', 0.25399765372276306),\n",
              " ('understood', 0.23528987169265747),\n",
              " ('5', 0.22615599632263184),\n",
              " ('point', 0.2060224413871765),\n",
              " ('individual', 0.20508956909179688),\n",
              " ('difference', 0.19871285557746887),\n",
              " ('speed', 0.1903616189956665),\n",
              " ('first', 0.188773512840271),\n",
              " ('19', 0.14711371064186096),\n",
              " ('learning', 0.13153955340385437)]"
            ]
          },
          "metadata": {},
          "execution_count": 18
        }
      ]
    }
  ]
}