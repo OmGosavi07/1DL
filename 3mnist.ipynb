{
  "cells": [
    {
      "cell_type": "markdown",
      "source": [
        "## Implementing FeedForward Neural Network with Keras And TensorFlow"
      ],
      "metadata": {
        "id": "HJxQCME5O78_"
      }
    },
    {
      "cell_type": "markdown",
      "metadata": {
        "id": "QB5AcsKFV82R"
      },
      "source": [
        "# 1. Import the necessary Packages\n",
        "\n",
        "\n",
        "* Dense is the implementation of fully connected layer.\n",
        "* Sequential will be used for network creation, indicating a feed forward network.\n",
        "* SGD Stochstic Gradient Descent is the optimization function.\n",
        "* classification_report will be used to get a formatted report, displaying the total accuracy of the model, along with a breakdown on the classification accuary for each digit.\n",
        "* LabelBinarizer will be used to transform categorical labels from single integer to a vector.\n",
        "\n"
      ]
    },
    {
      "cell_type": "code",
      "execution_count": 1,
      "metadata": {
        "id": "Kg5QsZvNVhrw"
      },
      "outputs": [],
      "source": [
        "from sklearn.preprocessing import LabelBinarizer\n",
        "from sklearn.metrics import classification_report\n",
        "from tensorflow.keras.models import Sequential\n",
        "from tensorflow.keras.layers import Dense\n",
        "from tensorflow.keras.optimizers import SGD\n",
        "from tensorflow.keras.datasets import mnist\n",
        "from tensorflow.keras import backend\n",
        "import matplotlib.pyplot as plt\n",
        "import numpy\n",
        "import argparse\n",
        "\n"
      ]
    },
    {
      "cell_type": "markdown",
      "metadata": {
        "id": "7dT-9XQbWecA"
      },
      "source": [
        "# 2. Load the training and testing data - MNIST"
      ]
    },
    {
      "cell_type": "code",
      "execution_count": 2,
      "metadata": {
        "colab": {
          "base_uri": "https://localhost:8080/"
        },
        "id": "WfF93D87WVbI",
        "outputId": "5b006cea-033c-4149-8776-8d1809a4a416"
      },
      "outputs": [
        {
          "output_type": "stream",
          "name": "stdout",
          "text": [
            "Downloading data from https://storage.googleapis.com/tensorflow/tf-keras-datasets/mnist.npz\n",
            "11490434/11490434 [==============================] - 0s 0us/step\n"
          ]
        }
      ],
      "source": [
        "((train_x,train_y),(test_x,test_y))=mnist.load_data()\n",
        "\n",
        "#Reshaping the data, flattening the data as the MNIST dataset images \n",
        "#are in the shape (28 x 28 x 1)\n",
        "train_x=train_x.reshape((train_x.shape[0], 28*28*1))\n",
        "test_x=test_x.reshape((test_x.shape[0], 28*28*1))\n",
        "\n",
        "# Normalization , scaling the data between (0,1)\n",
        "train_x = train_x.astype(\"float32\") / 255\n",
        "test_x = test_x.astype(\"float32\") / 255\n",
        "\n",
        "# Converting the data to vectors.\n",
        "lb = LabelBinarizer()\n",
        "train_y=lb.fit_transform(train_y)\n",
        "test_y=lb.transform(test_y)"
      ]
    },
    {
      "cell_type": "markdown",
      "metadata": {
        "id": "jse2V2xkY_XJ"
      },
      "source": [
        "# 3. Define the network architecture using Keras\n",
        "\n",
        "\n",
        "Here there are 3 layers.\n",
        "1. Input Layer : It learns 256 weights and uses \"Sigmoid\" as the activation function. The reason for input shape being 784, is that the resulting of flattening of the MNIST data, from (28 x 28 x 1) is 784.\n",
        "2. Hidden Layer : The number of weights is 128, and uses \"Sigmoid\" as the activation function.\n",
        "3. Output Layer : There are 10 classes in MNIST dataset. Thus, the output layer is of 10 nodes. Reason for using \"Softmax\" as the activation function is that sigmoid is used for 2 class classification where as, softmax is used for multiclass classifier."
      ]
    },
    {
      "cell_type": "code",
      "execution_count": 3,
      "metadata": {
        "id": "C1eYUu1yZJRb"
      },
      "outputs": [],
      "source": [
        "model = Sequential()\n",
        "model.add(Dense(256,input_shape=(784,),activation=\"sigmoid\"))\n",
        "model.add(Dense(128,activation=\"sigmoid\"))\n",
        "model.add(Dense(10,activation=\"softmax\"))"
      ]
    },
    {
      "cell_type": "markdown",
      "metadata": {
        "id": "ZJ7YRpURcdaK"
      },
      "source": [
        "# 4. Train the mode using SGD\n",
        "\n",
        "* Batch size of 128 means, 128 data points will be trained at a time. The method returns a dictionary which consists of the loss and accuracy of the network.\n",
        "* SGD optimizer is using a learning rate of 0.01 and [Categorical Crossentropy](https://peltarion.com/knowledge-center/modeling-view/build-an-ai-model/loss-functions/categorical-crossentropy) is used as the loss metric, cross entropy  is the reason for converting the inputs from integer to vector labels."
      ]
    },
    {
      "cell_type": "code",
      "execution_count": 4,
      "metadata": {
        "colab": {
          "base_uri": "https://localhost:8080/"
        },
        "id": "-X8O-c2YcilV",
        "outputId": "b0e03987-f261-4fc3-c237-f78e39598f83"
      },
      "outputs": [
        {
          "output_type": "stream",
          "name": "stdout",
          "text": [
            "Epoch 1/100\n",
            "469/469 [==============================] - 4s 7ms/step - loss: 2.2786 - accuracy: 0.1762 - val_loss: 2.2424 - val_accuracy: 0.2064\n",
            "Epoch 2/100\n",
            "469/469 [==============================] - 3s 6ms/step - loss: 2.2101 - accuracy: 0.3839 - val_loss: 2.1682 - val_accuracy: 0.5716\n",
            "Epoch 3/100\n",
            "469/469 [==============================] - 3s 6ms/step - loss: 2.1236 - accuracy: 0.5486 - val_loss: 2.0642 - val_accuracy: 0.5647\n",
            "Epoch 4/100\n",
            "469/469 [==============================] - 3s 6ms/step - loss: 1.9990 - accuracy: 0.6135 - val_loss: 1.9119 - val_accuracy: 0.6647\n",
            "Epoch 5/100\n",
            "469/469 [==============================] - 3s 6ms/step - loss: 1.8224 - accuracy: 0.6439 - val_loss: 1.7076 - val_accuracy: 0.6768\n",
            "Epoch 6/100\n",
            "469/469 [==============================] - 3s 6ms/step - loss: 1.6061 - accuracy: 0.6705 - val_loss: 1.4823 - val_accuracy: 0.7161\n",
            "Epoch 7/100\n",
            "469/469 [==============================] - 3s 6ms/step - loss: 1.3894 - accuracy: 0.7035 - val_loss: 1.2784 - val_accuracy: 0.7277\n",
            "Epoch 8/100\n",
            "469/469 [==============================] - 3s 6ms/step - loss: 1.2057 - accuracy: 0.7340 - val_loss: 1.1156 - val_accuracy: 0.7439\n",
            "Epoch 9/100\n",
            "469/469 [==============================] - 3s 6ms/step - loss: 1.0610 - accuracy: 0.7588 - val_loss: 0.9882 - val_accuracy: 0.7826\n",
            "Epoch 10/100\n",
            "469/469 [==============================] - 3s 6ms/step - loss: 0.9487 - accuracy: 0.7799 - val_loss: 0.8897 - val_accuracy: 0.7974\n",
            "Epoch 11/100\n",
            "469/469 [==============================] - 3s 6ms/step - loss: 0.8600 - accuracy: 0.7965 - val_loss: 0.8104 - val_accuracy: 0.8077\n",
            "Epoch 12/100\n",
            "469/469 [==============================] - 3s 6ms/step - loss: 0.7889 - accuracy: 0.8097 - val_loss: 0.7466 - val_accuracy: 0.8187\n",
            "Epoch 13/100\n",
            "469/469 [==============================] - 3s 6ms/step - loss: 0.7308 - accuracy: 0.8199 - val_loss: 0.6935 - val_accuracy: 0.8305\n",
            "Epoch 14/100\n",
            "469/469 [==============================] - 3s 6ms/step - loss: 0.6828 - accuracy: 0.8306 - val_loss: 0.6495 - val_accuracy: 0.8392\n",
            "Epoch 15/100\n",
            "469/469 [==============================] - 3s 7ms/step - loss: 0.6426 - accuracy: 0.8381 - val_loss: 0.6126 - val_accuracy: 0.8458\n",
            "Epoch 16/100\n",
            "469/469 [==============================] - 4s 7ms/step - loss: 0.6088 - accuracy: 0.8452 - val_loss: 0.5812 - val_accuracy: 0.8513\n",
            "Epoch 17/100\n",
            "469/469 [==============================] - 3s 6ms/step - loss: 0.5800 - accuracy: 0.8513 - val_loss: 0.5542 - val_accuracy: 0.8554\n",
            "Epoch 18/100\n",
            "469/469 [==============================] - 3s 6ms/step - loss: 0.5552 - accuracy: 0.8563 - val_loss: 0.5314 - val_accuracy: 0.8599\n",
            "Epoch 19/100\n",
            "469/469 [==============================] - 3s 6ms/step - loss: 0.5338 - accuracy: 0.8608 - val_loss: 0.5112 - val_accuracy: 0.8654\n",
            "Epoch 20/100\n",
            "469/469 [==============================] - 3s 6ms/step - loss: 0.5150 - accuracy: 0.8647 - val_loss: 0.4940 - val_accuracy: 0.8673\n",
            "Epoch 21/100\n",
            "469/469 [==============================] - 3s 6ms/step - loss: 0.4983 - accuracy: 0.8683 - val_loss: 0.4775 - val_accuracy: 0.8702\n",
            "Epoch 22/100\n",
            "469/469 [==============================] - 3s 6ms/step - loss: 0.4837 - accuracy: 0.8714 - val_loss: 0.4643 - val_accuracy: 0.8743\n",
            "Epoch 23/100\n",
            "469/469 [==============================] - 3s 6ms/step - loss: 0.4705 - accuracy: 0.8743 - val_loss: 0.4518 - val_accuracy: 0.8761\n",
            "Epoch 24/100\n",
            "469/469 [==============================] - 3s 6ms/step - loss: 0.4586 - accuracy: 0.8774 - val_loss: 0.4405 - val_accuracy: 0.8806\n",
            "Epoch 25/100\n",
            "469/469 [==============================] - 3s 6ms/step - loss: 0.4479 - accuracy: 0.8795 - val_loss: 0.4300 - val_accuracy: 0.8821\n",
            "Epoch 26/100\n",
            "469/469 [==============================] - 3s 6ms/step - loss: 0.4382 - accuracy: 0.8820 - val_loss: 0.4208 - val_accuracy: 0.8839\n",
            "Epoch 27/100\n",
            "469/469 [==============================] - 3s 6ms/step - loss: 0.4293 - accuracy: 0.8834 - val_loss: 0.4124 - val_accuracy: 0.8859\n",
            "Epoch 28/100\n",
            "469/469 [==============================] - 3s 6ms/step - loss: 0.4211 - accuracy: 0.8851 - val_loss: 0.4053 - val_accuracy: 0.8897\n",
            "Epoch 29/100\n",
            "469/469 [==============================] - 3s 6ms/step - loss: 0.4137 - accuracy: 0.8864 - val_loss: 0.3980 - val_accuracy: 0.8902\n",
            "Epoch 30/100\n",
            "469/469 [==============================] - 3s 6ms/step - loss: 0.4069 - accuracy: 0.8881 - val_loss: 0.3913 - val_accuracy: 0.8913\n",
            "Epoch 31/100\n",
            "469/469 [==============================] - 4s 8ms/step - loss: 0.4006 - accuracy: 0.8892 - val_loss: 0.3857 - val_accuracy: 0.8930\n",
            "Epoch 32/100\n",
            "469/469 [==============================] - 3s 6ms/step - loss: 0.3947 - accuracy: 0.8906 - val_loss: 0.3801 - val_accuracy: 0.8933\n",
            "Epoch 33/100\n",
            "469/469 [==============================] - 3s 6ms/step - loss: 0.3893 - accuracy: 0.8919 - val_loss: 0.3748 - val_accuracy: 0.8955\n",
            "Epoch 34/100\n",
            "469/469 [==============================] - 3s 6ms/step - loss: 0.3842 - accuracy: 0.8928 - val_loss: 0.3702 - val_accuracy: 0.8961\n",
            "Epoch 35/100\n",
            "469/469 [==============================] - 3s 6ms/step - loss: 0.3794 - accuracy: 0.8946 - val_loss: 0.3659 - val_accuracy: 0.8972\n",
            "Epoch 36/100\n",
            "469/469 [==============================] - 3s 6ms/step - loss: 0.3750 - accuracy: 0.8951 - val_loss: 0.3614 - val_accuracy: 0.8990\n",
            "Epoch 37/100\n",
            "469/469 [==============================] - 3s 6ms/step - loss: 0.3708 - accuracy: 0.8964 - val_loss: 0.3576 - val_accuracy: 0.8995\n",
            "Epoch 38/100\n",
            "469/469 [==============================] - 3s 6ms/step - loss: 0.3669 - accuracy: 0.8970 - val_loss: 0.3539 - val_accuracy: 0.9008\n",
            "Epoch 39/100\n",
            "469/469 [==============================] - 3s 6ms/step - loss: 0.3632 - accuracy: 0.8978 - val_loss: 0.3502 - val_accuracy: 0.9012\n",
            "Epoch 40/100\n",
            "469/469 [==============================] - 3s 6ms/step - loss: 0.3596 - accuracy: 0.8985 - val_loss: 0.3466 - val_accuracy: 0.9019\n",
            "Epoch 41/100\n",
            "469/469 [==============================] - 3s 6ms/step - loss: 0.3563 - accuracy: 0.8992 - val_loss: 0.3438 - val_accuracy: 0.9023\n",
            "Epoch 42/100\n",
            "469/469 [==============================] - 3s 6ms/step - loss: 0.3530 - accuracy: 0.8999 - val_loss: 0.3411 - val_accuracy: 0.9027\n",
            "Epoch 43/100\n",
            "469/469 [==============================] - 3s 6ms/step - loss: 0.3500 - accuracy: 0.9009 - val_loss: 0.3382 - val_accuracy: 0.9037\n",
            "Epoch 44/100\n",
            "469/469 [==============================] - 3s 6ms/step - loss: 0.3471 - accuracy: 0.9014 - val_loss: 0.3354 - val_accuracy: 0.9049\n",
            "Epoch 45/100\n",
            "469/469 [==============================] - 3s 6ms/step - loss: 0.3443 - accuracy: 0.9025 - val_loss: 0.3328 - val_accuracy: 0.9043\n",
            "Epoch 46/100\n",
            "469/469 [==============================] - 3s 6ms/step - loss: 0.3416 - accuracy: 0.9033 - val_loss: 0.3301 - val_accuracy: 0.9060\n",
            "Epoch 47/100\n",
            "469/469 [==============================] - 3s 6ms/step - loss: 0.3391 - accuracy: 0.9037 - val_loss: 0.3276 - val_accuracy: 0.9056\n",
            "Epoch 48/100\n",
            "469/469 [==============================] - 3s 6ms/step - loss: 0.3367 - accuracy: 0.9042 - val_loss: 0.3254 - val_accuracy: 0.9060\n",
            "Epoch 49/100\n",
            "469/469 [==============================] - 3s 6ms/step - loss: 0.3344 - accuracy: 0.9047 - val_loss: 0.3232 - val_accuracy: 0.9068\n",
            "Epoch 50/100\n",
            "469/469 [==============================] - 3s 6ms/step - loss: 0.3320 - accuracy: 0.9052 - val_loss: 0.3212 - val_accuracy: 0.9078\n",
            "Epoch 51/100\n",
            "469/469 [==============================] - 3s 6ms/step - loss: 0.3298 - accuracy: 0.9059 - val_loss: 0.3191 - val_accuracy: 0.9078\n",
            "Epoch 52/100\n",
            "469/469 [==============================] - 3s 6ms/step - loss: 0.3277 - accuracy: 0.9064 - val_loss: 0.3172 - val_accuracy: 0.9079\n",
            "Epoch 53/100\n",
            "469/469 [==============================] - 3s 6ms/step - loss: 0.3256 - accuracy: 0.9068 - val_loss: 0.3151 - val_accuracy: 0.9098\n",
            "Epoch 54/100\n",
            "469/469 [==============================] - 3s 6ms/step - loss: 0.3236 - accuracy: 0.9074 - val_loss: 0.3132 - val_accuracy: 0.9099\n",
            "Epoch 55/100\n",
            "469/469 [==============================] - 3s 6ms/step - loss: 0.3217 - accuracy: 0.9076 - val_loss: 0.3114 - val_accuracy: 0.9103\n",
            "Epoch 56/100\n",
            "469/469 [==============================] - 4s 8ms/step - loss: 0.3198 - accuracy: 0.9081 - val_loss: 0.3098 - val_accuracy: 0.9114\n",
            "Epoch 57/100\n",
            "469/469 [==============================] - 3s 6ms/step - loss: 0.3180 - accuracy: 0.9086 - val_loss: 0.3080 - val_accuracy: 0.9114\n",
            "Epoch 58/100\n",
            "469/469 [==============================] - 3s 6ms/step - loss: 0.3161 - accuracy: 0.9092 - val_loss: 0.3066 - val_accuracy: 0.9118\n",
            "Epoch 59/100\n",
            "469/469 [==============================] - 3s 6ms/step - loss: 0.3145 - accuracy: 0.9095 - val_loss: 0.3050 - val_accuracy: 0.9125\n",
            "Epoch 60/100\n",
            "469/469 [==============================] - 3s 6ms/step - loss: 0.3127 - accuracy: 0.9100 - val_loss: 0.3031 - val_accuracy: 0.9125\n",
            "Epoch 61/100\n",
            "469/469 [==============================] - 3s 6ms/step - loss: 0.3112 - accuracy: 0.9107 - val_loss: 0.3014 - val_accuracy: 0.9130\n",
            "Epoch 62/100\n",
            "469/469 [==============================] - 3s 6ms/step - loss: 0.3095 - accuracy: 0.9109 - val_loss: 0.3008 - val_accuracy: 0.9130\n",
            "Epoch 63/100\n",
            "469/469 [==============================] - 3s 6ms/step - loss: 0.3081 - accuracy: 0.9117 - val_loss: 0.2988 - val_accuracy: 0.9133\n",
            "Epoch 64/100\n",
            "469/469 [==============================] - 3s 6ms/step - loss: 0.3065 - accuracy: 0.9116 - val_loss: 0.2974 - val_accuracy: 0.9149\n",
            "Epoch 65/100\n",
            "469/469 [==============================] - 3s 6ms/step - loss: 0.3050 - accuracy: 0.9123 - val_loss: 0.2957 - val_accuracy: 0.9149\n",
            "Epoch 66/100\n",
            "469/469 [==============================] - 3s 6ms/step - loss: 0.3036 - accuracy: 0.9130 - val_loss: 0.2945 - val_accuracy: 0.9150\n",
            "Epoch 67/100\n",
            "469/469 [==============================] - 3s 6ms/step - loss: 0.3021 - accuracy: 0.9128 - val_loss: 0.2931 - val_accuracy: 0.9158\n",
            "Epoch 68/100\n",
            "469/469 [==============================] - 3s 6ms/step - loss: 0.3008 - accuracy: 0.9135 - val_loss: 0.2920 - val_accuracy: 0.9162\n",
            "Epoch 69/100\n",
            "469/469 [==============================] - 3s 6ms/step - loss: 0.2994 - accuracy: 0.9138 - val_loss: 0.2915 - val_accuracy: 0.9166\n",
            "Epoch 70/100\n",
            "469/469 [==============================] - 3s 6ms/step - loss: 0.2981 - accuracy: 0.9142 - val_loss: 0.2895 - val_accuracy: 0.9167\n",
            "Epoch 71/100\n",
            "469/469 [==============================] - 3s 6ms/step - loss: 0.2967 - accuracy: 0.9147 - val_loss: 0.2885 - val_accuracy: 0.9182\n",
            "Epoch 72/100\n",
            "469/469 [==============================] - 3s 6ms/step - loss: 0.2955 - accuracy: 0.9149 - val_loss: 0.2878 - val_accuracy: 0.9167\n",
            "Epoch 73/100\n",
            "469/469 [==============================] - 3s 6ms/step - loss: 0.2942 - accuracy: 0.9152 - val_loss: 0.2866 - val_accuracy: 0.9179\n",
            "Epoch 74/100\n",
            "469/469 [==============================] - 3s 6ms/step - loss: 0.2930 - accuracy: 0.9157 - val_loss: 0.2851 - val_accuracy: 0.9185\n",
            "Epoch 75/100\n",
            "469/469 [==============================] - 3s 6ms/step - loss: 0.2918 - accuracy: 0.9160 - val_loss: 0.2839 - val_accuracy: 0.9186\n",
            "Epoch 76/100\n",
            "469/469 [==============================] - 3s 6ms/step - loss: 0.2906 - accuracy: 0.9162 - val_loss: 0.2830 - val_accuracy: 0.9197\n",
            "Epoch 77/100\n",
            "469/469 [==============================] - 3s 6ms/step - loss: 0.2894 - accuracy: 0.9162 - val_loss: 0.2821 - val_accuracy: 0.9190\n",
            "Epoch 78/100\n",
            "469/469 [==============================] - 3s 6ms/step - loss: 0.2883 - accuracy: 0.9168 - val_loss: 0.2808 - val_accuracy: 0.9196\n",
            "Epoch 79/100\n",
            "469/469 [==============================] - 3s 6ms/step - loss: 0.2871 - accuracy: 0.9172 - val_loss: 0.2798 - val_accuracy: 0.9201\n",
            "Epoch 80/100\n",
            "469/469 [==============================] - 3s 7ms/step - loss: 0.2860 - accuracy: 0.9177 - val_loss: 0.2786 - val_accuracy: 0.9204\n",
            "Epoch 81/100\n",
            "469/469 [==============================] - 4s 7ms/step - loss: 0.2849 - accuracy: 0.9176 - val_loss: 0.2781 - val_accuracy: 0.9199\n",
            "Epoch 82/100\n",
            "469/469 [==============================] - 3s 6ms/step - loss: 0.2838 - accuracy: 0.9181 - val_loss: 0.2766 - val_accuracy: 0.9212\n",
            "Epoch 83/100\n",
            "469/469 [==============================] - 3s 6ms/step - loss: 0.2828 - accuracy: 0.9183 - val_loss: 0.2758 - val_accuracy: 0.9211\n",
            "Epoch 84/100\n",
            "469/469 [==============================] - 3s 6ms/step - loss: 0.2817 - accuracy: 0.9185 - val_loss: 0.2756 - val_accuracy: 0.9202\n",
            "Epoch 85/100\n",
            "469/469 [==============================] - 3s 6ms/step - loss: 0.2807 - accuracy: 0.9186 - val_loss: 0.2739 - val_accuracy: 0.9216\n",
            "Epoch 86/100\n",
            "469/469 [==============================] - 3s 6ms/step - loss: 0.2797 - accuracy: 0.9191 - val_loss: 0.2730 - val_accuracy: 0.9217\n",
            "Epoch 87/100\n",
            "469/469 [==============================] - 3s 6ms/step - loss: 0.2786 - accuracy: 0.9192 - val_loss: 0.2727 - val_accuracy: 0.9216\n",
            "Epoch 88/100\n",
            "469/469 [==============================] - 3s 6ms/step - loss: 0.2777 - accuracy: 0.9196 - val_loss: 0.2710 - val_accuracy: 0.9224\n",
            "Epoch 89/100\n",
            "469/469 [==============================] - 3s 6ms/step - loss: 0.2766 - accuracy: 0.9201 - val_loss: 0.2703 - val_accuracy: 0.9225\n",
            "Epoch 90/100\n",
            "469/469 [==============================] - 3s 6ms/step - loss: 0.2757 - accuracy: 0.9200 - val_loss: 0.2695 - val_accuracy: 0.9223\n",
            "Epoch 91/100\n",
            "469/469 [==============================] - 3s 6ms/step - loss: 0.2747 - accuracy: 0.9202 - val_loss: 0.2687 - val_accuracy: 0.9221\n",
            "Epoch 92/100\n",
            "469/469 [==============================] - 3s 6ms/step - loss: 0.2738 - accuracy: 0.9206 - val_loss: 0.2680 - val_accuracy: 0.9221\n",
            "Epoch 93/100\n",
            "469/469 [==============================] - 3s 6ms/step - loss: 0.2728 - accuracy: 0.9207 - val_loss: 0.2673 - val_accuracy: 0.9227\n",
            "Epoch 94/100\n",
            "469/469 [==============================] - 3s 7ms/step - loss: 0.2719 - accuracy: 0.9210 - val_loss: 0.2661 - val_accuracy: 0.9236\n",
            "Epoch 95/100\n",
            "469/469 [==============================] - 3s 6ms/step - loss: 0.2710 - accuracy: 0.9214 - val_loss: 0.2653 - val_accuracy: 0.9227\n",
            "Epoch 96/100\n",
            "469/469 [==============================] - 3s 7ms/step - loss: 0.2701 - accuracy: 0.9218 - val_loss: 0.2645 - val_accuracy: 0.9235\n",
            "Epoch 97/100\n",
            "469/469 [==============================] - 3s 6ms/step - loss: 0.2691 - accuracy: 0.9221 - val_loss: 0.2640 - val_accuracy: 0.9233\n",
            "Epoch 98/100\n",
            "469/469 [==============================] - 3s 6ms/step - loss: 0.2683 - accuracy: 0.9221 - val_loss: 0.2629 - val_accuracy: 0.9238\n",
            "Epoch 99/100\n",
            "469/469 [==============================] - 3s 6ms/step - loss: 0.2674 - accuracy: 0.9225 - val_loss: 0.2628 - val_accuracy: 0.9246\n",
            "Epoch 100/100\n",
            "469/469 [==============================] - 3s 6ms/step - loss: 0.2665 - accuracy: 0.9226 - val_loss: 0.2614 - val_accuracy: 0.9244\n"
          ]
        }
      ],
      "source": [
        "sdg = SGD(0.01)\n",
        "model.compile(loss=\"categorical_crossentropy\", optimizer = sdg, \n",
        "              metrics = [\"accuracy\"])\n",
        "result = model.fit(train_x,train_y,validation_data=(test_x,test_y),\n",
        "                   epochs=100,batch_size=128)\n"
      ]
    },
    {
      "cell_type": "markdown",
      "metadata": {
        "id": "PG9nTUAVjVQv"
      },
      "source": [
        "# 5. Evaluate the network\n",
        "\n"
      ]
    },
    {
      "cell_type": "markdown",
      "source": [
        "."
      ],
      "metadata": {
        "id": "7o3ioGlvXPOy"
      }
    },
    {
      "cell_type": "code",
      "execution_count": 5,
      "metadata": {
        "colab": {
          "base_uri": "https://localhost:8080/"
        },
        "id": "_Ez-53UdjZuv",
        "outputId": "6e9b666c-cf8d-48e4-c771-c27a3556b5e5"
      },
      "outputs": [
        {
          "output_type": "stream",
          "name": "stdout",
          "text": [
            "79/79 [==============================] - 0s 3ms/step\n",
            "              precision    recall  f1-score   support\n",
            "\n",
            "           0       0.94      0.98      0.96       980\n",
            "           1       0.97      0.97      0.97      1135\n",
            "           2       0.93      0.90      0.92      1032\n",
            "           3       0.91      0.91      0.91      1010\n",
            "           4       0.91      0.94      0.93       982\n",
            "           5       0.90      0.86      0.88       892\n",
            "           6       0.93      0.95      0.94       958\n",
            "           7       0.93      0.92      0.93      1028\n",
            "           8       0.89      0.90      0.89       974\n",
            "           9       0.92      0.90      0.91      1009\n",
            "\n",
            "    accuracy                           0.92     10000\n",
            "   macro avg       0.92      0.92      0.92     10000\n",
            "weighted avg       0.92      0.92      0.92     10000\n",
            "\n"
          ]
        }
      ],
      "source": [
        "predictions = model.predict(test_x,batch_size=128)\n",
        "print(classification_report(test_y.argmax(axis=1),\n",
        "      predictions.argmax(axis=1),\n",
        "      target_names=[str(x) for x in lb.classes_]))\n"
      ]
    },
    {
      "cell_type": "markdown",
      "metadata": {
        "id": "4rWjDMrklCVG"
      },
      "source": [
        "# 6. Plot the training loss and accuracy"
      ]
    },
    {
      "cell_type": "code",
      "execution_count": 6,
      "metadata": {
        "colab": {
          "base_uri": "https://localhost:8080/",
          "height": 534
        },
        "id": "H80TnzWtlJrV",
        "outputId": "ef576672-656e-4fc2-fc09-79f63d30af7c"
      },
      "outputs": [
        {
          "output_type": "execute_result",
          "data": {
            "text/plain": [
              "<matplotlib.legend.Legend at 0x7f91e7045e10>"
            ]
          },
          "metadata": {},
          "execution_count": 6
        },
        {
          "output_type": "display_data",
          "data": {
            "text/plain": [
              "<Figure size 1440x576 with 1 Axes>"
            ],
            "image/png": "[encoded data removed]"
          },
          "metadata": {}
        }
      ],
      "source": [
        "plt.style.use(\"ggplot\")\n",
        "figure=plt.figure()\n",
        "figure.set_figwidth(20)\n",
        "figure.set_figheight(8)\n",
        "plt.plot(numpy.arange(0,100),result.history['loss'],label=\"train_loss\")\n",
        "plt.plot(numpy.arange(0,100),result.history['val_loss'],label=\"val_loss\")\n",
        "plt.plot(numpy.arange(0,100),result.history['accuracy'],label=\"train_accuracy\")\n",
        "plt.plot(numpy.arange(0,100),result.history['val_accuracy'],label=\"val_accuracy\")\n",
        "plt.title(\"Training Loss and Accuracy - Om Gosavi - MNIST\")\n",
        "plt.xlabel(\"Epoch #\")\n",
        "plt.ylabel(\"Loss / Accuracy\")\n",
        "plt.legend()"
      ]
    },
    {
      "cell_type": "code",
      "source": [],
      "metadata": {
        "id": "4zbiuZrEllNU"
      },
      "execution_count": null,
      "outputs": []
    }
  ],
  "metadata": {
    "colab": {
      "provenance": []
    },
    "kernelspec": {
      "display_name": "Python 3",
      "name": "python3"
    },
    "language_info": {
      "name": "python"
    }
  },
  "nbformat": 4,
  "nbformat_minor": 0
}